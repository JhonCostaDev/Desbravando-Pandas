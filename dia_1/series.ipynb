{
 "cells": [
  {
   "cell_type": "code",
   "execution_count": 1,
   "metadata": {},
   "outputs": [],
   "source": [
    "import numpy as np\n",
    "import pandas as pd "
   ]
  },
  {
   "cell_type": "markdown",
   "metadata": {},
   "source": [
    "## Desvio Padrão\n",
    "\n",
    "O desvio padrão é uma medida de dispersão que indica o quanto os valores de um conjunto de dados se afastam da média. \n",
    "\n",
    "1. Calcular a Média: Soma-se todos os valores do conjunto e então divida a soma pelo número de elementos no conjunto\n",
    "    Ex: (1, 2, 3, 4, 5) = 1 + 2 + 3 + 4 + 5 / 5 = 3\n",
    "    a média desse conjunto é 3.\n",
    "\n",
    "2. Subtrair a média de cada valor:\n",
    "    1 - 3 = -2\n",
    "    2 - 3 = -1\n",
    "    3 - 3 = 0\n",
    "    4 - 3 = 1\n",
    "    5 - 3 = 2\n",
    "    Assim temos: (-4, -3, -2, -1, 0)\n",
    "\n",
    "3. Eleve o resultado da diferença ao quadrado para retirar os números negativos.\n",
    "    -2 ** 2 = 4\n",
    "    -1 ** 2 = 1\n",
    "     0 ** 2 = 0\n",
    "     1 ** 2 = 1\n",
    "     2 ** 2 = 4 \n",
    "\n",
    "4. Calcular a variância, que é somar todos os quadrados e dividir pelo número total de valores(**para população**), para **amostas** dividir pelo total de valores menos 1.\n",
    "\n",
    "    populacao = 10 / 5 = 2\n",
    "    amostra = 10 / 5 - 1 = 2,5\n",
    "\n",
    "5. Por fim, tirar a raiz quadrada da variância para obter o desvio padrão.\n",
    "\n",
    "    "
   ]
  },
  {
   "cell_type": "code",
   "execution_count": 2,
   "metadata": {},
   "outputs": [],
   "source": [
    "# calcular a média\n",
    "lista = [1, 2, 3, 4, 5]\n",
    "media = sum(lista) / len(lista)\n",
    "\n"
   ]
  },
  {
   "cell_type": "code",
   "execution_count": 3,
   "metadata": {},
   "outputs": [
    {
     "data": {
      "text/plain": [
       "[-2.0, -1.0, 0.0, 1.0, 2.0]"
      ]
     },
     "execution_count": 3,
     "metadata": {},
     "output_type": "execute_result"
    }
   ],
   "source": [
    "# Calcular a diferença\n",
    "diferenca = list(map(lambda x : x - media, lista))\n",
    "\n",
    "\n",
    "diferenca"
   ]
  },
  {
   "cell_type": "code",
   "execution_count": 4,
   "metadata": {},
   "outputs": [
    {
     "data": {
      "text/plain": [
       "[4.0, 1.0, 0.0, 1.0, 4.0]"
      ]
     },
     "execution_count": 4,
     "metadata": {},
     "output_type": "execute_result"
    }
   ],
   "source": [
    "# Elevar a diferença ao quadrado\n",
    "\n",
    "ao_quadrado = list(map(lambda x : x ** 2, diferenca))\n",
    "ao_quadrado"
   ]
  },
  {
   "cell_type": "code",
   "execution_count": 5,
   "metadata": {},
   "outputs": [],
   "source": [
    "# Calcular a variança\n",
    "\n",
    "populacao = sum(ao_quadrado) / len(ao_quadrado)\n",
    "amostra = sum(ao_quadrado) / (len(ao_quadrado) - 1)"
   ]
  },
  {
   "cell_type": "code",
   "execution_count": 6,
   "metadata": {},
   "outputs": [],
   "source": [
    "from math import sqrt\n",
    "\n",
    "desvio_populacao = sqrt(populacao)\n",
    "desvio_amostra = sqrt(amostra)"
   ]
  },
  {
   "cell_type": "code",
   "execution_count": 7,
   "metadata": {},
   "outputs": [
    {
     "name": "stdout",
     "output_type": "stream",
     "text": [
      "O desvio padrão para População é de: 1.41\n",
      "O desvio padrão para amostra é de: 1.58\n"
     ]
    }
   ],
   "source": [
    "print(f'O desvio padrão para População é de: {desvio_populacao:.2f}\\nO desvio padrão para amostra é de: {desvio_amostra:.2f}')"
   ]
  },
  {
   "cell_type": "code",
   "execution_count": 8,
   "metadata": {},
   "outputs": [],
   "source": [
    "### Criando uma função para calular o desvio utilizando os passos acima. \n",
    "from math import sqrt\n",
    "\n",
    "def desvio_padrao(lista, tipo=\"None\") -> float:\n",
    "    media = sum(lista) / len(lista)\n",
    "    lista_diferenca = list(map(lambda x:x - media, lista))\n",
    "    ao_quadrado = list(map(lambda x:x ** 2, lista_diferenca))\n",
    "    \n",
    "    populacao = sum(ao_quadrado) / len(ao_quadrado)\n",
    "    amostra = sum(ao_quadrado) / (len(ao_quadrado) - 1)\n",
    "    \n",
    "    desvio_populacao = sqrt(populacao)\n",
    "    desvio_amostra = sqrt(amostra)\n",
    "    \n",
    "    if tipo == 'p':\n",
    "        return desvio_populacao\n",
    "    elif tipo == 'a':\n",
    "        return desvio_amostra\n",
    "    \n",
    "    return desvio_populacao, desvio_amostra\n",
    "    "
   ]
  },
  {
   "cell_type": "code",
   "execution_count": 9,
   "metadata": {},
   "outputs": [
    {
     "name": "stdout",
     "output_type": "stream",
     "text": [
      "O desvio padrão para População é de: 1.41\n",
      "O desvio padrão para amostra é de: 1.58\n"
     ]
    }
   ],
   "source": [
    "pop, amos = desvio_padrao(lista)\n",
    "\n",
    "print(f'O desvio padrão para População é de: {pop:.2f}\\nO desvio padrão para amostra é de: {amos:.2f}')"
   ]
  },
  {
   "cell_type": "code",
   "execution_count": 10,
   "metadata": {},
   "outputs": [
    {
     "name": "stdout",
     "output_type": "stream",
     "text": [
      "(24.06241883103193, 27.784887978899608)\n"
     ]
    }
   ],
   "source": [
    "idades = [30, 42, 90, 34]\n",
    "\n",
    "desvio_idade = desvio_padrao(idades)\n",
    "print(desvio_idade)"
   ]
  },
  {
   "cell_type": "markdown",
   "metadata": {},
   "source": [
    "### Facilitando as coisas com Numpy e Pandas"
   ]
  },
  {
   "cell_type": "code",
   "execution_count": 11,
   "metadata": {},
   "outputs": [
    {
     "data": {
      "text/plain": [
       "np.float64(24.06241883103193)"
      ]
     },
     "execution_count": 11,
     "metadata": {},
     "output_type": "execute_result"
    }
   ],
   "source": [
    "# Numpy\n",
    "# posso fazer direto na lista\n",
    "desvio = np.std(idades)\n",
    "desvio"
   ]
  },
  {
   "cell_type": "code",
   "execution_count": 12,
   "metadata": {},
   "outputs": [
    {
     "data": {
      "text/plain": [
       "np.float64(24.06241883103193)"
      ]
     },
     "execution_count": 12,
     "metadata": {},
     "output_type": "execute_result"
    }
   ],
   "source": [
    "#ou posso converter a lista em um array e então calcular\n",
    "array_idades = np.array(idades)\n",
    "desvio = np.std(array_idades)\n",
    "desvio"
   ]
  },
  {
   "cell_type": "code",
   "execution_count": 13,
   "metadata": {},
   "outputs": [
    {
     "data": {
      "text/plain": [
       "0    30\n",
       "1    42\n",
       "2    90\n",
       "3    34\n",
       "dtype: int64"
      ]
     },
     "execution_count": 13,
     "metadata": {},
     "output_type": "execute_result"
    }
   ],
   "source": [
    "# Pandas\n",
    "# Convertendo a lista em uma Serie\n",
    "\n",
    "series_idades = pd.Series(idades)\n",
    "series_idades"
   ]
  },
  {
   "cell_type": "code",
   "execution_count": 14,
   "metadata": {},
   "outputs": [
    {
     "data": {
      "text/plain": [
       "np.float64(54.0)"
      ]
     },
     "execution_count": 14,
     "metadata": {},
     "output_type": "execute_result"
    }
   ],
   "source": [
    "# mean\n",
    "series_idades.mean() # media\n",
    "\n",
    "# Var - Variança\n",
    "series_idades.var() # Variância\n",
    "\n",
    "# Mediana\n",
    "series_idades.median() # mediana\n",
    "\n",
    "# Desvio padrão\n",
    "series_idades.std() # desvio padrao\n",
    "\n",
    "# Quantil\n",
    "series_idades.quantile(0.75) # 54.0\n",
    "\n"
   ]
  },
  {
   "cell_type": "code",
   "execution_count": 15,
   "metadata": {},
   "outputs": [
    {
     "data": {
      "text/plain": [
       "count     4.000000\n",
       "mean     49.000000\n",
       "std      27.784888\n",
       "min      30.000000\n",
       "25%      33.000000\n",
       "50%      38.000000\n",
       "75%      54.000000\n",
       "max      90.000000\n",
       "dtype: float64"
      ]
     },
     "execution_count": 15,
     "metadata": {},
     "output_type": "execute_result"
    }
   ],
   "source": [
    "# DESCRIBE - RESUMO \n",
    "series_idades.describe()\n",
    "\n",
    "\n"
   ]
  },
  {
   "cell_type": "code",
   "execution_count": 16,
   "metadata": {},
   "outputs": [
    {
     "data": {
      "text/plain": [
       "0    30\n",
       "1    42\n",
       "2    90\n",
       "3    34\n",
       "dtype: int64"
      ]
     },
     "execution_count": 16,
     "metadata": {},
     "output_type": "execute_result"
    }
   ],
   "source": [
    "# atributos - caracteristicas \n",
    "\n",
    "# SHAPE: A dimensão da Série, diz quantas linhas a serie tem\n",
    "series_idades\n",
    "\n"
   ]
  },
  {
   "cell_type": "markdown",
   "metadata": {},
   "source": [
    "series podem ser acessadas por seus índices assim como listas e arrays. Mas não é possível utilizar índices negativos."
   ]
  },
  {
   "cell_type": "code",
   "execution_count": 17,
   "metadata": {},
   "outputs": [
    {
     "data": {
      "text/plain": [
       "np.int64(30)"
      ]
     },
     "execution_count": 17,
     "metadata": {},
     "output_type": "execute_result"
    }
   ],
   "source": [
    "series_idades[0]"
   ]
  },
  {
   "cell_type": "code",
   "execution_count": 18,
   "metadata": {},
   "outputs": [
    {
     "data": {
      "text/plain": [
       "RangeIndex(start=0, stop=4, step=1)"
      ]
     },
     "execution_count": 18,
     "metadata": {},
     "output_type": "execute_result"
    }
   ],
   "source": [
    "# Como saber os índices da minha serie\n",
    "series_idades.index"
   ]
  },
  {
   "cell_type": "markdown",
   "metadata": {},
   "source": [
    "Com pandas, você pode nomear os índices da sua série como desejar"
   ]
  },
  {
   "cell_type": "code",
   "execution_count": 19,
   "metadata": {},
   "outputs": [
    {
     "data": {
      "text/plain": [
       "a    30\n",
       "b    42\n",
       "c    90\n",
       "d    34\n",
       "dtype: int64"
      ]
     },
     "execution_count": 19,
     "metadata": {},
     "output_type": "execute_result"
    }
   ],
   "source": [
    "# Nomeando meus indices\n",
    "series_idades.index = ['a', 'b', 'c', 'd']\n",
    "series_idades"
   ]
  },
  {
   "cell_type": "markdown",
   "metadata": {},
   "source": [
    "Mesmo substituindo os índices, ainda é possível acessar os elementos pela sua posição"
   ]
  },
  {
   "cell_type": "code",
   "execution_count": 20,
   "metadata": {},
   "outputs": [
    {
     "name": "stderr",
     "output_type": "stream",
     "text": [
      "/tmp/ipykernel_34813/466942431.py:1: FutureWarning: Series.__getitem__ treating keys as positions is deprecated. In a future version, integer keys will always be treated as labels (consistent with DataFrame behavior). To access a value by position, use `ser.iloc[pos]`\n",
      "  series_idades[2]\n"
     ]
    },
    {
     "data": {
      "text/plain": [
       "np.int64(90)"
      ]
     },
     "execution_count": 20,
     "metadata": {},
     "output_type": "execute_result"
    }
   ],
   "source": [
    "series_idades[2]"
   ]
  },
  {
   "cell_type": "code",
   "execution_count": 21,
   "metadata": {},
   "outputs": [
    {
     "name": "stdout",
     "output_type": "stream",
     "text": [
      "b    42\n",
      "c    90\n",
      "dtype: int64\n"
     ]
    }
   ],
   "source": [
    "# Recuperando dados com a posição usando ILOC\n",
    "# O iloc pega o elemento pela posição independente do índice\n",
    "a = series_idades.iloc[1:3]\n",
    "print(a)\n"
   ]
  },
  {
   "cell_type": "code",
   "execution_count": 22,
   "metadata": {},
   "outputs": [
    {
     "name": "stdout",
     "output_type": "stream",
     "text": [
      "90\n"
     ]
    }
   ],
   "source": [
    "# Loc pega pelo índice, é necessário passar o índice correto, mesmo naqueles caso em que eu tenha alterado o índice da minha série.abs\n",
    "\n",
    "num = series_idades.loc['c']\n",
    "print(num)"
   ]
  },
  {
   "cell_type": "code",
   "execution_count": 23,
   "metadata": {},
   "outputs": [
    {
     "data": {
      "text/plain": [
       "a    30\n",
       "b    42\n",
       "c    90\n",
       "d    34\n",
       "Name: idades, dtype: int64"
      ]
     },
     "execution_count": 23,
     "metadata": {},
     "output_type": "execute_result"
    }
   ],
   "source": [
    "# É possível nomear as minhas séries\n",
    "\n",
    "series_idades.name = 'idades'\n",
    "series_idades"
   ]
  },
  {
   "cell_type": "code",
   "execution_count": 24,
   "metadata": {},
   "outputs": [
    {
     "data": {
      "text/plain": [
       "0    4.65\n",
       "1    1.50\n",
       "2    1.99\n",
       "3    3.56\n",
       "4    8.50\n",
       "Name: precos, dtype: float64"
      ]
     },
     "execution_count": 24,
     "metadata": {},
     "output_type": "execute_result"
    }
   ],
   "source": [
    "# É possível dar nome a séria na sua criação.\n",
    "lista = [4.65, 1.5, 1.99, 3.56, 8.5]\n",
    "serie_lista = pd.Series(lista, name='precos')\n",
    "serie_lista"
   ]
  },
  {
   "cell_type": "code",
   "execution_count": null,
   "metadata": {},
   "outputs": [],
   "source": []
  },
  {
   "cell_type": "code",
   "execution_count": null,
   "metadata": {},
   "outputs": [],
   "source": []
  },
  {
   "cell_type": "code",
   "execution_count": null,
   "metadata": {},
   "outputs": [],
   "source": []
  },
  {
   "cell_type": "code",
   "execution_count": null,
   "metadata": {},
   "outputs": [],
   "source": []
  }
 ],
 "metadata": {
  "kernelspec": {
   "display_name": ".venv",
   "language": "python",
   "name": "python3"
  },
  "language_info": {
   "codemirror_mode": {
    "name": "ipython",
    "version": 3
   },
   "file_extension": ".py",
   "mimetype": "text/x-python",
   "name": "python",
   "nbconvert_exporter": "python",
   "pygments_lexer": "ipython3",
   "version": "3.12.3"
  }
 },
 "nbformat": 4,
 "nbformat_minor": 2
}
