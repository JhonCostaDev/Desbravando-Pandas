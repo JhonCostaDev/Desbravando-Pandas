{
 "cells": [
  {
   "cell_type": "code",
   "execution_count": 4,
   "metadata": {},
   "outputs": [
    {
     "data": {
      "text/html": [
       "<div>\n",
       "<style scoped>\n",
       "    .dataframe tbody tr th:only-of-type {\n",
       "        vertical-align: middle;\n",
       "    }\n",
       "\n",
       "    .dataframe tbody tr th {\n",
       "        vertical-align: top;\n",
       "    }\n",
       "\n",
       "    .dataframe thead th {\n",
       "        text-align: right;\n",
       "    }\n",
       "</style>\n",
       "<table border=\"1\" class=\"dataframe\">\n",
       "  <thead>\n",
       "    <tr style=\"text-align: right;\">\n",
       "      <th></th>\n",
       "      <th>1</th>\n",
       "      <th>ChatMessage</th>\n",
       "      <th>Mensagem do chat da Twitch</th>\n",
       "    </tr>\n",
       "  </thead>\n",
       "  <tbody>\n",
       "    <tr>\n",
       "      <th>0</th>\n",
       "      <td>2</td>\n",
       "      <td>Resgatar Ponei</td>\n",
       "      <td>Poneis resgatados a partir dos pontos que a Tw...</td>\n",
       "    </tr>\n",
       "    <tr>\n",
       "      <th>1</th>\n",
       "      <td>3</td>\n",
       "      <td>Lista de presença</td>\n",
       "      <td>Assinatura da lista durante as lives (!presente)</td>\n",
       "    </tr>\n",
       "    <tr>\n",
       "      <th>2</th>\n",
       "      <td>4</td>\n",
       "      <td>Troca de Pontos StreamElements</td>\n",
       "      <td>Troca de cubos por datapoints</td>\n",
       "    </tr>\n",
       "    <tr>\n",
       "      <th>3</th>\n",
       "      <td>5</td>\n",
       "      <td>Presença Streak</td>\n",
       "      <td>Streak de pontos para quem tem recorrência de ...</td>\n",
       "    </tr>\n",
       "  </tbody>\n",
       "</table>\n",
       "</div>"
      ],
      "text/plain": [
       "   1                     ChatMessage  \\\n",
       "0  2                  Resgatar Ponei   \n",
       "1  3               Lista de presença   \n",
       "2  4  Troca de Pontos StreamElements   \n",
       "3  5                 Presença Streak   \n",
       "\n",
       "                          Mensagem do chat da Twitch  \n",
       "0  Poneis resgatados a partir dos pontos que a Tw...  \n",
       "1   Assinatura da lista durante as lives (!presente)  \n",
       "2                      Troca de cubos por datapoints  \n",
       "3  Streak de pontos para quem tem recorrência de ...  "
      ]
     },
     "execution_count": 4,
     "metadata": {},
     "output_type": "execute_result"
    }
   ],
   "source": [
    "import pandas as pd \n",
    "\n",
    "df = pd.read_csv('../data/products.csv', sep=\";\")\n",
    "df\n",
    "# Arquivo sem cabeçalho"
   ]
  },
  {
   "cell_type": "code",
   "execution_count": 5,
   "metadata": {},
   "outputs": [
    {
     "data": {
      "text/html": [
       "<div>\n",
       "<style scoped>\n",
       "    .dataframe tbody tr th:only-of-type {\n",
       "        vertical-align: middle;\n",
       "    }\n",
       "\n",
       "    .dataframe tbody tr th {\n",
       "        vertical-align: top;\n",
       "    }\n",
       "\n",
       "    .dataframe thead th {\n",
       "        text-align: right;\n",
       "    }\n",
       "</style>\n",
       "<table border=\"1\" class=\"dataframe\">\n",
       "  <thead>\n",
       "    <tr style=\"text-align: right;\">\n",
       "      <th></th>\n",
       "      <th>Id</th>\n",
       "      <th>Name</th>\n",
       "      <th>Description</th>\n",
       "    </tr>\n",
       "  </thead>\n",
       "  <tbody>\n",
       "    <tr>\n",
       "      <th>0</th>\n",
       "      <td>1</td>\n",
       "      <td>ChatMessage</td>\n",
       "      <td>Mensagem do chat da Twitch</td>\n",
       "    </tr>\n",
       "    <tr>\n",
       "      <th>1</th>\n",
       "      <td>2</td>\n",
       "      <td>Resgatar Ponei</td>\n",
       "      <td>Poneis resgatados a partir dos pontos que a Tw...</td>\n",
       "    </tr>\n",
       "    <tr>\n",
       "      <th>2</th>\n",
       "      <td>3</td>\n",
       "      <td>Lista de presença</td>\n",
       "      <td>Assinatura da lista durante as lives (!presente)</td>\n",
       "    </tr>\n",
       "    <tr>\n",
       "      <th>3</th>\n",
       "      <td>4</td>\n",
       "      <td>Troca de Pontos StreamElements</td>\n",
       "      <td>Troca de cubos por datapoints</td>\n",
       "    </tr>\n",
       "    <tr>\n",
       "      <th>4</th>\n",
       "      <td>5</td>\n",
       "      <td>Presença Streak</td>\n",
       "      <td>Streak de pontos para quem tem recorrência de ...</td>\n",
       "    </tr>\n",
       "  </tbody>\n",
       "</table>\n",
       "</div>"
      ],
      "text/plain": [
       "   Id                            Name  \\\n",
       "0   1                     ChatMessage   \n",
       "1   2                  Resgatar Ponei   \n",
       "2   3               Lista de presença   \n",
       "3   4  Troca de Pontos StreamElements   \n",
       "4   5                 Presença Streak   \n",
       "\n",
       "                                         Description  \n",
       "0                         Mensagem do chat da Twitch  \n",
       "1  Poneis resgatados a partir dos pontos que a Tw...  \n",
       "2   Assinatura da lista durante as lives (!presente)  \n",
       "3                      Troca de cubos por datapoints  \n",
       "4  Streak de pontos para quem tem recorrência de ...  "
      ]
     },
     "execution_count": 5,
     "metadata": {},
     "output_type": "execute_result"
    }
   ],
   "source": [
    "# importando e dando nomes para as colunas\n",
    "df = pd.read_csv('../data/products.csv', sep=\";\", names=[\"Id\", \"Name\", \"Description\"])\n",
    "df"
   ]
  },
  {
   "cell_type": "code",
   "execution_count": 6,
   "metadata": {},
   "outputs": [],
   "source": [
    "# Mudando o nome das colunas\n",
    "\n",
    "df.rename(columns={\"Name\": \"Nome\", \"Description\": \"Descrição\"}, inplace=True)"
   ]
  },
  {
   "cell_type": "code",
   "execution_count": 7,
   "metadata": {},
   "outputs": [
    {
     "data": {
      "text/html": [
       "<div>\n",
       "<style scoped>\n",
       "    .dataframe tbody tr th:only-of-type {\n",
       "        vertical-align: middle;\n",
       "    }\n",
       "\n",
       "    .dataframe tbody tr th {\n",
       "        vertical-align: top;\n",
       "    }\n",
       "\n",
       "    .dataframe thead th {\n",
       "        text-align: right;\n",
       "    }\n",
       "</style>\n",
       "<table border=\"1\" class=\"dataframe\">\n",
       "  <thead>\n",
       "    <tr style=\"text-align: right;\">\n",
       "      <th></th>\n",
       "      <th>Id</th>\n",
       "      <th>Nome</th>\n",
       "      <th>Descrição</th>\n",
       "    </tr>\n",
       "  </thead>\n",
       "  <tbody>\n",
       "    <tr>\n",
       "      <th>0</th>\n",
       "      <td>1</td>\n",
       "      <td>ChatMessage</td>\n",
       "      <td>Mensagem do chat da Twitch</td>\n",
       "    </tr>\n",
       "    <tr>\n",
       "      <th>1</th>\n",
       "      <td>2</td>\n",
       "      <td>Resgatar Ponei</td>\n",
       "      <td>Poneis resgatados a partir dos pontos que a Tw...</td>\n",
       "    </tr>\n",
       "    <tr>\n",
       "      <th>2</th>\n",
       "      <td>3</td>\n",
       "      <td>Lista de presença</td>\n",
       "      <td>Assinatura da lista durante as lives (!presente)</td>\n",
       "    </tr>\n",
       "    <tr>\n",
       "      <th>3</th>\n",
       "      <td>4</td>\n",
       "      <td>Troca de Pontos StreamElements</td>\n",
       "      <td>Troca de cubos por datapoints</td>\n",
       "    </tr>\n",
       "    <tr>\n",
       "      <th>4</th>\n",
       "      <td>5</td>\n",
       "      <td>Presença Streak</td>\n",
       "      <td>Streak de pontos para quem tem recorrência de ...</td>\n",
       "    </tr>\n",
       "  </tbody>\n",
       "</table>\n",
       "</div>"
      ],
      "text/plain": [
       "   Id                            Nome  \\\n",
       "0   1                     ChatMessage   \n",
       "1   2                  Resgatar Ponei   \n",
       "2   3               Lista de presença   \n",
       "3   4  Troca de Pontos StreamElements   \n",
       "4   5                 Presença Streak   \n",
       "\n",
       "                                           Descrição  \n",
       "0                         Mensagem do chat da Twitch  \n",
       "1  Poneis resgatados a partir dos pontos que a Tw...  \n",
       "2   Assinatura da lista durante as lives (!presente)  \n",
       "3                      Troca de cubos por datapoints  \n",
       "4  Streak de pontos para quem tem recorrência de ...  "
      ]
     },
     "execution_count": 7,
     "metadata": {},
     "output_type": "execute_result"
    }
   ],
   "source": [
    "df"
   ]
  },
  {
   "cell_type": "code",
   "execution_count": null,
   "metadata": {},
   "outputs": [],
   "source": []
  },
  {
   "cell_type": "code",
   "execution_count": null,
   "metadata": {},
   "outputs": [],
   "source": []
  },
  {
   "cell_type": "code",
   "execution_count": null,
   "metadata": {},
   "outputs": [],
   "source": []
  },
  {
   "cell_type": "code",
   "execution_count": null,
   "metadata": {},
   "outputs": [],
   "source": []
  },
  {
   "cell_type": "code",
   "execution_count": null,
   "metadata": {},
   "outputs": [],
   "source": []
  }
 ],
 "metadata": {
  "kernelspec": {
   "display_name": ".venv",
   "language": "python",
   "name": "python3"
  },
  "language_info": {
   "codemirror_mode": {
    "name": "ipython",
    "version": 3
   },
   "file_extension": ".py",
   "mimetype": "text/x-python",
   "name": "python",
   "nbconvert_exporter": "python",
   "pygments_lexer": "ipython3",
   "version": "3.12.3"
  }
 },
 "nbformat": 4,
 "nbformat_minor": 2
}
